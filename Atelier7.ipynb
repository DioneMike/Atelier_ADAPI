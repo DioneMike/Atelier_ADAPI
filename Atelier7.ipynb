{
 "cells": [
  {
   "cell_type": "code",
   "execution_count": 2,
   "metadata": {},
   "outputs": [],
   "source": [
    "import numpy as np\n",
    "import pandas as pd\n",
    "import matplotlib.pyplot as plt\n",
    "import seaborn as sns\n",
    "\n",
    "import warnings\n",
    "warnings.filterwarnings(\"ignore\")\n",
    "from scipy.io import loadmat"
   ]
  },
  {
   "cell_type": "code",
   "execution_count": 27,
   "metadata": {},
   "outputs": [
    {
     "data": {
      "text/plain": [
       "{'__header__': b'MATLAB 5.0 MAT-file, Platform: PCWIN, Created on: Thu Apr 09 22:17:21 2009',\n",
       " '__version__': '1.0',\n",
       " '__globals__': [],\n",
       " 'temps': array([[0.0000e+00, 2.0000e-01, 4.0000e-01, ..., 9.9994e+03, 9.9996e+03,\n",
       "         9.9998e+03]]),\n",
       " 'T': array([[20.        , 20.125     , 20.23888889, ..., 24.09512142,\n",
       "         24.08602975, 24.07697313]]),\n",
       " 'coef_puis': array([[0.5       , 0.5       , 0.5       , ..., 0.11482687, 0.11482687,\n",
       "         0.11482687]])}"
      ]
     },
     "execution_count": 27,
     "metadata": {},
     "output_type": "execute_result"
    }
   ],
   "source": [
    "data_at7 = loadmat('Données/data_at7.mat') \n",
    "\n",
    "temps=data_at7['temps']; T=data_at7['T']; coef_puis=data_at7['coef_puis']\n",
    "\n",
    "# T=pd.DataFrame(T).T\n",
    "# temps=pd.DataFrame(temps).T\n",
    "# coef_puis=pd.DataFrame(coef_puis).T\n",
    "\n",
    "variables=np.array([temps,T,coef_puis])\n",
    "data_at7\n"
   ]
  },
  {
   "cell_type": "code",
   "execution_count": null,
   "metadata": {},
   "outputs": [],
   "source": [
    "from sklearn.neural_network import MLPClassifier\n",
    "from sklearn.model_selection import train_test_split\n",
    "X_train, X_test, y_train, y_test = train_test_split(X, Y, test_size=0.25, random_state=10) \n",
    "\n",
    "# On définit les nombres de neurones dans les couches cachées\n",
    "\n",
    "nbN1=3; nbN2=5; nbN3=2\n",
    "HL = (nbN1, nbN2, nbN3)\n",
    "\n",
    "# Créer et configurer le réseau de neurones\n",
    "net = MLPClassifier(hidden_layer_sizes=HL, solver='lbfgs', learning_rate_init=0.05, momentum=0.9)\n",
    "\n",
    "# Entraîner le réseau de neurones\n",
    "net.fit(X, y)\n",
    "\n",
    "# Effectuer une prédiction sur les données d'entraînement\n",
    "y_hat = net.predict(X)"
   ]
  }
 ],
 "metadata": {
  "kernelspec": {
   "display_name": "base",
   "language": "python",
   "name": "python3"
  },
  "language_info": {
   "codemirror_mode": {
    "name": "ipython",
    "version": 3
   },
   "file_extension": ".py",
   "mimetype": "text/x-python",
   "name": "python",
   "nbconvert_exporter": "python",
   "pygments_lexer": "ipython3",
   "version": "3.10.9"
  },
  "orig_nbformat": 4
 },
 "nbformat": 4,
 "nbformat_minor": 2
}
